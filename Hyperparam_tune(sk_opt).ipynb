{
  "nbformat": 4,
  "nbformat_minor": 0,
  "metadata": {
    "colab": {
      "name": "Hyperparam_tune(sk-opt).ipynb",
      "provenance": [],
      "authorship_tag": "ABX9TyPt7jrolhB2vqbY5kCPYrDc",
      "include_colab_link": true
    },
    "kernelspec": {
      "name": "python3",
      "display_name": "Python 3"
    },
    "language_info": {
      "name": "python"
    }
  },
  "cells": [
    {
      "cell_type": "markdown",
      "metadata": {
        "id": "view-in-github",
        "colab_type": "text"
      },
      "source": [
        "<a href=\"https://colab.research.google.com/github/iam-pattan/Exploring-ML/blob/main/Hyperparam_tune(sk_opt).ipynb\" target=\"_parent\"><img src=\"https://colab.research.google.com/assets/colab-badge.svg\" alt=\"Open In Colab\"/></a>"
      ]
    },
    {
      "cell_type": "code",
      "metadata": {
        "colab": {
          "base_uri": "https://localhost:8080/"
        },
        "id": "ShHs7jDfdhXL",
        "outputId": "a04e429a-fa96-4149-ac3c-887ddebf0dba"
      },
      "source": [
        "!pip install scikit-optimize"
      ],
      "execution_count": 2,
      "outputs": [
        {
          "output_type": "stream",
          "text": [
            "Collecting scikit-optimize\n",
            "\u001b[?25l  Downloading https://files.pythonhosted.org/packages/8b/03/be33e89f55866065a02e515c5b319304a801a9f1027a9b311a9b1d1f8dc7/scikit_optimize-0.8.1-py2.py3-none-any.whl (101kB)\n",
            "\r\u001b[K     |███▎                            | 10kB 16.3MB/s eta 0:00:01\r\u001b[K     |██████▌                         | 20kB 21.4MB/s eta 0:00:01\r\u001b[K     |█████████▊                      | 30kB 10.3MB/s eta 0:00:01\r\u001b[K     |█████████████                   | 40kB 8.2MB/s eta 0:00:01\r\u001b[K     |████████████████▏               | 51kB 5.3MB/s eta 0:00:01\r\u001b[K     |███████████████████▍            | 61kB 6.0MB/s eta 0:00:01\r\u001b[K     |██████████████████████▊         | 71kB 6.3MB/s eta 0:00:01\r\u001b[K     |██████████████████████████      | 81kB 6.1MB/s eta 0:00:01\r\u001b[K     |█████████████████████████████▏  | 92kB 6.4MB/s eta 0:00:01\r\u001b[K     |████████████████████████████████| 102kB 4.4MB/s \n",
            "\u001b[?25hRequirement already satisfied: scikit-learn>=0.20.0 in /usr/local/lib/python3.7/dist-packages (from scikit-optimize) (0.22.2.post1)\n",
            "Requirement already satisfied: joblib>=0.11 in /usr/local/lib/python3.7/dist-packages (from scikit-optimize) (1.0.1)\n",
            "Requirement already satisfied: numpy>=1.13.3 in /usr/local/lib/python3.7/dist-packages (from scikit-optimize) (1.19.5)\n",
            "Collecting pyaml>=16.9\n",
            "  Downloading https://files.pythonhosted.org/packages/15/c4/1310a054d33abc318426a956e7d6df0df76a6ddfa9c66f6310274fb75d42/pyaml-20.4.0-py2.py3-none-any.whl\n",
            "Requirement already satisfied: scipy>=0.19.1 in /usr/local/lib/python3.7/dist-packages (from scikit-optimize) (1.4.1)\n",
            "Requirement already satisfied: PyYAML in /usr/local/lib/python3.7/dist-packages (from pyaml>=16.9->scikit-optimize) (3.13)\n",
            "Installing collected packages: pyaml, scikit-optimize\n",
            "Successfully installed pyaml-20.4.0 scikit-optimize-0.8.1\n"
          ],
          "name": "stdout"
        }
      ]
    },
    {
      "cell_type": "code",
      "metadata": {
        "id": "RsUUnBzhdLIL"
      },
      "source": [
        "from skopt import BayesSearchCV\n",
        "from sklearn.datasets import load_digits, load_iris\n",
        "from sklearn.svm import SVC\n",
        "from sklearn.model_selection import train_test_split"
      ],
      "execution_count": 7,
      "outputs": []
    },
    {
      "cell_type": "code",
      "metadata": {
        "id": "uiEBqIqpdOzW"
      },
      "source": [
        "# Load MNIST data\n",
        "X, y = load_digits(n_class=10, return_X_y=True)\n",
        "X_train, X_test, y_train, y_test = train_test_split(X, y, train_size=0.75, test_size=.25, random_state=0)"
      ],
      "execution_count": 4,
      "outputs": []
    },
    {
      "cell_type": "code",
      "metadata": {
        "colab": {
          "base_uri": "https://localhost:8080/"
        },
        "id": "Lv0lsNhJdO1v",
        "outputId": "8cd33cb0-4256-4d9a-ec46-28c2924f6bb5"
      },
      "source": [
        "# log-uniform: understand as search over p = exp(x) by varying x\n",
        "opt = BayesSearchCV(\n",
        "    SVC(),\n",
        "    {\n",
        "        'C': (1e-6, 1e+6, 'log-uniform'),\n",
        "        'gamma': (1e-6, 1e+1, 'log-uniform'),\n",
        "        'degree': (1, 8),  # integer valued parameter\n",
        "        'kernel': ['linear', 'poly', 'rbf'],  # categorical parameter\n",
        "    },\n",
        "    n_iter=32,\n",
        "    cv=3\n",
        ")\n",
        "\n",
        "opt.fit(X_train, y_train)"
      ],
      "execution_count": 5,
      "outputs": [
        {
          "output_type": "execute_result",
          "data": {
            "text/plain": [
              "BayesSearchCV(cv=3, error_score='raise',\n",
              "              estimator=SVC(C=1.0, break_ties=False, cache_size=200,\n",
              "                            class_weight=None, coef0=0.0,\n",
              "                            decision_function_shape='ovr', degree=3,\n",
              "                            gamma='scale', kernel='rbf', max_iter=-1,\n",
              "                            probability=False, random_state=None,\n",
              "                            shrinking=True, tol=0.001, verbose=False),\n",
              "              fit_params=None, iid=True, n_iter=32, n_jobs=1, n_points=1,\n",
              "              optimizer_kwargs=None, pre_dispatch='2*n_jobs', random_state=None,\n",
              "              refit=True, return_train_score=False, scoring=None,\n",
              "              search_spaces={'C': (1e-06, 1000000.0, 'log-uniform'),\n",
              "                             'degree': (1, 8),\n",
              "                             'gamma': (1e-06, 10.0, 'log-uniform'),\n",
              "                             'kernel': ['linear', 'poly', 'rbf']},\n",
              "              verbose=0)"
            ]
          },
          "metadata": {
            "tags": []
          },
          "execution_count": 5
        }
      ]
    },
    {
      "cell_type": "code",
      "metadata": {
        "colab": {
          "base_uri": "https://localhost:8080/"
        },
        "id": "SNwe7DDNdO5L",
        "outputId": "4c7b1647-f839-4c2f-bfc0-74e0a808fe22"
      },
      "source": [
        "print(\"val. score: %s\" % opt.best_score_)\n",
        "print(\"test score: %s\" % opt.score(X_test, y_test))"
      ],
      "execution_count": 6,
      "outputs": [
        {
          "output_type": "stream",
          "text": [
            "val. score: 0.985894580549369\n",
            "test score: 0.9822222222222222\n"
          ],
          "name": "stdout"
        }
      ]
    },
    {
      "cell_type": "markdown",
      "metadata": {
        "id": "OOu7TR80fEXh"
      },
      "source": [
        "## total number of iterations it will take to explore all subspaces"
      ]
    },
    {
      "cell_type": "code",
      "metadata": {
        "colab": {
          "base_uri": "https://localhost:8080/"
        },
        "id": "r41GlE-mdO76",
        "outputId": "8c6cbc74-f294-43f5-fcf4-9ef6ddc56a5e"
      },
      "source": [
        "X, y = load_iris(True)\n",
        "\n",
        "searchcv = BayesSearchCV(\n",
        "    SVC(),\n",
        "    search_spaces=[\n",
        "        ({'C': (0.1, 1.0)}, 19),  # 19 iterations for this subspace\n",
        "        {'gamma':(0.1, 1.0)}\n",
        "    ],\n",
        "    n_iter=23\n",
        ")\n",
        "\n",
        "print(searchcv.total_iterations)"
      ],
      "execution_count": 8,
      "outputs": [
        {
          "output_type": "stream",
          "text": [
            "42\n"
          ],
          "name": "stdout"
        }
      ]
    },
    {
      "cell_type": "code",
      "metadata": {
        "id": "oJryL0ZTfR3h"
      },
      "source": [
        "from skopt import BayesSearchCV\n",
        "from skopt.space import Real, Categorical, Integer\n",
        "from skopt.plots import plot_objective, plot_histogram\n",
        "\n",
        "from sklearn.datasets import load_digits\n",
        "from sklearn.svm import LinearSVC, SVC\n",
        "from sklearn.pipeline import Pipeline\n",
        "from sklearn.model_selection import train_test_split"
      ],
      "execution_count": 9,
      "outputs": []
    },
    {
      "cell_type": "code",
      "metadata": {
        "id": "QWHwqd9gfcEY"
      },
      "source": [
        "X, y = load_digits(n_class=10, return_X_y=True)\n",
        "X_train, X_test, y_train, y_test = train_test_split(X, y, random_state=0)"
      ],
      "execution_count": 10,
      "outputs": []
    },
    {
      "cell_type": "code",
      "metadata": {
        "id": "bbwpDgsndO-z"
      },
      "source": [
        "# pipeline class is used as estimator to enable\n",
        "# search over different model types\n",
        "pipe = Pipeline([\n",
        "    ('model', SVC())\n",
        "])\n",
        "\n",
        "# single categorical value of 'model' parameter is\n",
        "# sets the model class\n",
        "# We will get ConvergenceWarnings because the problem is not well-conditioned.\n",
        "# But that's fine, this is just an example.\n",
        "linsvc_search = {\n",
        "    'model': [LinearSVC(max_iter=1000)],\n",
        "    'model__C': (1e-6, 1e+6, 'log-uniform'),\n",
        "}\n",
        "\n",
        "# explicit dimension classes can be specified like this\n",
        "svc_search = {\n",
        "    'model': Categorical([SVC()]),\n",
        "    'model__C': Real(1e-6, 1e+6, prior='log-uniform'),\n",
        "    'model__gamma': Real(1e-6, 1e+1, prior='log-uniform'),\n",
        "    'model__degree': Integer(1,8),\n",
        "    'model__kernel': Categorical(['linear', 'poly', 'rbf']),\n",
        "}"
      ],
      "execution_count": 12,
      "outputs": []
    },
    {
      "cell_type": "code",
      "metadata": {
        "colab": {
          "base_uri": "https://localhost:8080/"
        },
        "id": "nyvzJb1Affe4",
        "outputId": "3aafda80-dda4-47b6-8670-7f8957666fe8"
      },
      "source": [
        "opt = BayesSearchCV(\n",
        "    pipe,\n",
        "    # (parameter space, # of evaluations)\n",
        "    [(svc_search, 40), (linsvc_search, 16)],\n",
        "    cv=3\n",
        ")\n",
        "\n",
        "opt.fit(X_train, y_train)"
      ],
      "execution_count": 13,
      "outputs": [
        {
          "output_type": "stream",
          "text": [
            "/usr/local/lib/python3.7/dist-packages/sklearn/svm/_base.py:947: ConvergenceWarning: Liblinear failed to converge, increase the number of iterations.\n",
            "  \"the number of iterations.\", ConvergenceWarning)\n",
            "/usr/local/lib/python3.7/dist-packages/sklearn/svm/_base.py:947: ConvergenceWarning: Liblinear failed to converge, increase the number of iterations.\n",
            "  \"the number of iterations.\", ConvergenceWarning)\n",
            "/usr/local/lib/python3.7/dist-packages/sklearn/svm/_base.py:947: ConvergenceWarning: Liblinear failed to converge, increase the number of iterations.\n",
            "  \"the number of iterations.\", ConvergenceWarning)\n",
            "/usr/local/lib/python3.7/dist-packages/sklearn/svm/_base.py:947: ConvergenceWarning: Liblinear failed to converge, increase the number of iterations.\n",
            "  \"the number of iterations.\", ConvergenceWarning)\n",
            "/usr/local/lib/python3.7/dist-packages/sklearn/svm/_base.py:947: ConvergenceWarning: Liblinear failed to converge, increase the number of iterations.\n",
            "  \"the number of iterations.\", ConvergenceWarning)\n",
            "/usr/local/lib/python3.7/dist-packages/sklearn/svm/_base.py:947: ConvergenceWarning: Liblinear failed to converge, increase the number of iterations.\n",
            "  \"the number of iterations.\", ConvergenceWarning)\n",
            "/usr/local/lib/python3.7/dist-packages/sklearn/svm/_base.py:947: ConvergenceWarning: Liblinear failed to converge, increase the number of iterations.\n",
            "  \"the number of iterations.\", ConvergenceWarning)\n",
            "/usr/local/lib/python3.7/dist-packages/sklearn/svm/_base.py:947: ConvergenceWarning: Liblinear failed to converge, increase the number of iterations.\n",
            "  \"the number of iterations.\", ConvergenceWarning)\n",
            "/usr/local/lib/python3.7/dist-packages/sklearn/svm/_base.py:947: ConvergenceWarning: Liblinear failed to converge, increase the number of iterations.\n",
            "  \"the number of iterations.\", ConvergenceWarning)\n",
            "/usr/local/lib/python3.7/dist-packages/sklearn/svm/_base.py:947: ConvergenceWarning: Liblinear failed to converge, increase the number of iterations.\n",
            "  \"the number of iterations.\", ConvergenceWarning)\n",
            "/usr/local/lib/python3.7/dist-packages/sklearn/svm/_base.py:947: ConvergenceWarning: Liblinear failed to converge, increase the number of iterations.\n",
            "  \"the number of iterations.\", ConvergenceWarning)\n",
            "/usr/local/lib/python3.7/dist-packages/sklearn/svm/_base.py:947: ConvergenceWarning: Liblinear failed to converge, increase the number of iterations.\n",
            "  \"the number of iterations.\", ConvergenceWarning)\n",
            "/usr/local/lib/python3.7/dist-packages/sklearn/svm/_base.py:947: ConvergenceWarning: Liblinear failed to converge, increase the number of iterations.\n",
            "  \"the number of iterations.\", ConvergenceWarning)\n",
            "/usr/local/lib/python3.7/dist-packages/sklearn/svm/_base.py:947: ConvergenceWarning: Liblinear failed to converge, increase the number of iterations.\n",
            "  \"the number of iterations.\", ConvergenceWarning)\n",
            "/usr/local/lib/python3.7/dist-packages/sklearn/svm/_base.py:947: ConvergenceWarning: Liblinear failed to converge, increase the number of iterations.\n",
            "  \"the number of iterations.\", ConvergenceWarning)\n",
            "/usr/local/lib/python3.7/dist-packages/sklearn/svm/_base.py:947: ConvergenceWarning: Liblinear failed to converge, increase the number of iterations.\n",
            "  \"the number of iterations.\", ConvergenceWarning)\n",
            "/usr/local/lib/python3.7/dist-packages/sklearn/svm/_base.py:947: ConvergenceWarning: Liblinear failed to converge, increase the number of iterations.\n",
            "  \"the number of iterations.\", ConvergenceWarning)\n",
            "/usr/local/lib/python3.7/dist-packages/sklearn/svm/_base.py:947: ConvergenceWarning: Liblinear failed to converge, increase the number of iterations.\n",
            "  \"the number of iterations.\", ConvergenceWarning)\n",
            "/usr/local/lib/python3.7/dist-packages/sklearn/svm/_base.py:947: ConvergenceWarning: Liblinear failed to converge, increase the number of iterations.\n",
            "  \"the number of iterations.\", ConvergenceWarning)\n",
            "/usr/local/lib/python3.7/dist-packages/sklearn/svm/_base.py:947: ConvergenceWarning: Liblinear failed to converge, increase the number of iterations.\n",
            "  \"the number of iterations.\", ConvergenceWarning)\n",
            "/usr/local/lib/python3.7/dist-packages/sklearn/svm/_base.py:947: ConvergenceWarning: Liblinear failed to converge, increase the number of iterations.\n",
            "  \"the number of iterations.\", ConvergenceWarning)\n"
          ],
          "name": "stderr"
        },
        {
          "output_type": "execute_result",
          "data": {
            "text/plain": [
              "BayesSearchCV(cv=3, error_score='raise',\n",
              "              estimator=Pipeline(memory=None,\n",
              "                                 steps=[('model',\n",
              "                                         SVC(C=1.0, break_ties=False,\n",
              "                                             cache_size=200, class_weight=None,\n",
              "                                             coef0=0.0,\n",
              "                                             decision_function_shape='ovr',\n",
              "                                             degree=3, gamma='scale',\n",
              "                                             kernel='rbf', max_iter=-1,\n",
              "                                             probability=False,\n",
              "                                             random_state=None, shrinking=True,\n",
              "                                             tol=0.001, verbose=False))],\n",
              "                                 verbose=False),\n",
              "              fit_params=None, iid=Tru...\n",
              "                               'model__gamma': Real(low=1e-06, high=10.0, prior='log-uniform', transform='identity'),\n",
              "                               'model__kernel': Categorical(categories=('linear', 'poly', 'rbf'), prior=None)},\n",
              "                              40),\n",
              "                             ({'model': [LinearSVC(C=1.0, class_weight=None,\n",
              "                                                   dual=True,\n",
              "                                                   fit_intercept=True,\n",
              "                                                   intercept_scaling=1,\n",
              "                                                   loss='squared_hinge',\n",
              "                                                   max_iter=1000,\n",
              "                                                   multi_class='ovr',\n",
              "                                                   penalty='l2',\n",
              "                                                   random_state=None,\n",
              "                                                   tol=0.0001, verbose=0)],\n",
              "                               'model__C': (1e-06, 1000000.0, 'log-uniform')},\n",
              "                              16)],\n",
              "              verbose=0)"
            ]
          },
          "metadata": {
            "tags": []
          },
          "execution_count": 13
        }
      ]
    },
    {
      "cell_type": "code",
      "metadata": {
        "colab": {
          "base_uri": "https://localhost:8080/"
        },
        "id": "EVeQT51OfPQt",
        "outputId": "2ca51721-a84c-47fa-e664-c710c0548c64"
      },
      "source": [
        "print(\"val. score: %s\" % opt.best_score_)\n",
        "print(\"test score: %s\" % opt.score(X_test, y_test))\n",
        "print(\"best params: %s\" % str(opt.best_params_))"
      ],
      "execution_count": 14,
      "outputs": [
        {
          "output_type": "stream",
          "text": [
            "val. score: 0.9888641425389755\n",
            "test score: 0.9911111111111112\n",
            "best params: OrderedDict([('model', SVC(C=8235.040646893849, break_ties=False, cache_size=200, class_weight=None,\n",
            "    coef0=0.0, decision_function_shape='ovr', degree=3,\n",
            "    gamma=0.00030036491272457275, kernel='rbf', max_iter=-1, probability=False,\n",
            "    random_state=None, shrinking=True, tol=0.001, verbose=False)), ('model__C', 8235.040646893849), ('model__degree', 3), ('model__gamma', 0.00030036491272457275), ('model__kernel', 'rbf')])\n"
          ],
          "name": "stdout"
        }
      ]
    }
  ]
}