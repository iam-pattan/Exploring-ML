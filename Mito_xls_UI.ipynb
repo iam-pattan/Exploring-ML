{
  "nbformat": 4,
  "nbformat_minor": 0,
  "metadata": {
    "colab": {
      "name": "Mito_xls_UI.ipynb",
      "provenance": [],
      "authorship_tag": "ABX9TyNd/X8VeTiKtizw9YDX3FgD",
      "include_colab_link": true
    },
    "kernelspec": {
      "name": "python3",
      "display_name": "Python 3"
    },
    "language_info": {
      "name": "python"
    },
    "widgets": {
      "application/vnd.jupyter.widget-state+json": {
        "649aa5def0f24c899501415d16effe27": {
          "model_module": "mitosheet",
          "model_name": "ExampleModel",
          "state": {
            "_view_name": "ExampleView",
            "code_json": "{\"imports\": \"from mitosheet import *\", \"code\": [\"# Step 1 (rename headers to make them work with Mito)\", \"df1.rename(columns={\\\" Identifier\\\": \\\"_Identifier\\\", \\\"First name\\\": \\\"First_name\\\", \\\"Last name\\\": \\\"Last_name\\\"}, inplace=True)\"]}",
            "df_names_json": "{\"df_names\": [\"df1\"]}",
            "curr_step_idx": 0,
            "_model_module_version": "^0.1.178",
            "_view_count": null,
            "df_shape_json": "[{\"rows\": 5, \"cols\": 4}]",
            "step_data_list_json": "[{\"step_id\": \"init\", \"step_idx\": 0, \"step_type\": \"initialize\", \"step_display_name\": \"Created a Mitosheet\", \"step_description\": \"Created a mitosheet with df1 dataframes\"}]",
            "sheet_json": "[{\"columns\": [\"Username\", \"_Identifier\", \"First_name\", \"Last_name\"], \"index\": [0, 1, 2, 3, 4], \"data\": [[\"booker12\", 9012, \"Rachel\", \"Booker\"], [\"grey07\", 2070, \"Laura\", \"Grey\"], [\"johnson81\", 4081, \"Craig\", \"Johnson\"], [\"jenkins46\", 9346, \"Mary\", \"Jenkins\"], [\"smith79\", 5079, \"Jamie\", \"Smith\"]]}]",
            "is_local_deployment": true,
            "_model_module": "mitosheet",
            "column_spreadsheet_code_json": "[{\"Username\": \"\", \"_Identifier\": \"\", \"First_name\": \"\", \"Last_name\": \"\"}]",
            "layout": "IPY_MODEL_a338fe2b502d42a8b1ef4e43e5a75408",
            "column_filters_json": "[{\"Username\": {\"operator\": \"And\", \"filters\": []}, \"_Identifier\": {\"operator\": \"And\", \"filters\": []}, \"First_name\": {\"operator\": \"And\", \"filters\": []}, \"Last_name\": {\"operator\": \"And\", \"filters\": []}}]",
            "column_type_json": "[{\"Username\": \"string\", \"_Identifier\": \"number\", \"First_name\": \"string\", \"Last_name\": \"string\"}]",
            "should_upgrade_mitosheet": false,
            "analysis_name": "UUID-48566a94-5562-4bc2-a887-7e573fd51546",
            "_view_module": "mitosheet",
            "_dom_classes": [],
            "_model_name": "ExampleModel",
            "saved_analysis_names_json": "[]",
            "_view_module_version": "^0.1.178",
            "has_rendered": false,
            "user_email": ""
          }
        },
        "9086c9176ce44f71b4bac90b601547c5": {
          "model_module": "mitosheet",
          "model_name": "ExampleModel",
          "state": {
            "_view_name": "ExampleView",
            "code_json": "{\"imports\": \"from mitosheet import *\", \"code\": [\"# Step 1 (rename headers to make them work with Mito)\", \"df1.rename(columns={\\\" Identifier\\\": \\\"_Identifier\\\", \\\"First name\\\": \\\"First_name\\\", \\\"Last name\\\": \\\"Last_name\\\"}, inplace=True)\", \"df2.rename(columns={\\\" Identifier\\\": \\\"_Identifier\\\", \\\"One-time password\\\": \\\"One_time_password\\\", \\\"Recovery code\\\": \\\"Recovery_code\\\", \\\"First name\\\": \\\"First_name\\\", \\\"Last name\\\": \\\"Last_name\\\"}, inplace=True)\"]}",
            "df_names_json": "{\"df_names\": [\"df1\", \"df2\"]}",
            "curr_step_idx": 0,
            "_model_module_version": "^0.1.178",
            "_view_count": null,
            "df_shape_json": "[{\"rows\": 5, \"cols\": 4}, {\"rows\": 5, \"cols\": 8}]",
            "step_data_list_json": "[{\"step_id\": \"init\", \"step_idx\": 0, \"step_type\": \"initialize\", \"step_display_name\": \"Created a Mitosheet\", \"step_description\": \"Created a mitosheet with df1, df2 dataframes\"}]",
            "sheet_json": "[{\"columns\": [\"Username\", \"_Identifier\", \"First_name\", \"Last_name\"], \"index\": [0, 1, 2, 3, 4], \"data\": [[\"booker12\", 9012, \"Rachel\", \"Booker\"], [\"grey07\", 2070, \"Laura\", \"Grey\"], [\"johnson81\", 4081, \"Craig\", \"Johnson\"], [\"jenkins46\", 9346, \"Mary\", \"Jenkins\"], [\"smith79\", 5079, \"Jamie\", \"Smith\"]]}, {\"columns\": [\"Username\", \"_Identifier\", \"One_time_password\", \"Recovery_code\", \"First_name\", \"Last_name\", \"Department\", \"Location\"], \"index\": [0, 1, 2, 3, 4], \"data\": [[\"booker12\", 9012, \"12se74\", \"rb9012\", \"Rachel\", \"Booker\", \"Sales\", \"Manchester\"], [\"grey07\", 2070, \"04ap67\", \"lg2070\", \"Laura\", \"Grey\", \"Depot\", \"London\"], [\"johnson81\", 4081, \"30no86\", \"cj4081\", \"Craig\", \"Johnson\", \"Depot\", \"London\"], [\"jenkins46\", 9346, \"14ju73\", \"mj9346\", \"Mary\", \"Jenkins\", \"Engineering\", \"Manchester\"], [\"smith79\", 5079, \"09ja61\", \"js5079\", \"Jamie\", \"Smith\", \"Engineering\", \"Manchester\"]]}]",
            "is_local_deployment": true,
            "_model_module": "mitosheet",
            "column_spreadsheet_code_json": "[{\"Username\": \"\", \"_Identifier\": \"\", \"First_name\": \"\", \"Last_name\": \"\"}, {\"Username\": \"\", \"_Identifier\": \"\", \"One_time_password\": \"\", \"Recovery_code\": \"\", \"First_name\": \"\", \"Last_name\": \"\", \"Department\": \"\", \"Location\": \"\"}]",
            "layout": "IPY_MODEL_31ac3d18e65f463584f0680ba2902f9d",
            "column_filters_json": "[{\"Username\": {\"operator\": \"And\", \"filters\": []}, \"_Identifier\": {\"operator\": \"And\", \"filters\": []}, \"First_name\": {\"operator\": \"And\", \"filters\": []}, \"Last_name\": {\"operator\": \"And\", \"filters\": []}}, {\"Username\": {\"operator\": \"And\", \"filters\": []}, \"_Identifier\": {\"operator\": \"And\", \"filters\": []}, \"One_time_password\": {\"operator\": \"And\", \"filters\": []}, \"Recovery_code\": {\"operator\": \"And\", \"filters\": []}, \"First_name\": {\"operator\": \"And\", \"filters\": []}, \"Last_name\": {\"operator\": \"And\", \"filters\": []}, \"Department\": {\"operator\": \"And\", \"filters\": []}, \"Location\": {\"operator\": \"And\", \"filters\": []}}]",
            "column_type_json": "[{\"Username\": \"string\", \"_Identifier\": \"number\", \"First_name\": \"string\", \"Last_name\": \"string\"}, {\"Username\": \"string\", \"_Identifier\": \"number\", \"One_time_password\": \"string\", \"Recovery_code\": \"string\", \"First_name\": \"string\", \"Last_name\": \"string\", \"Department\": \"string\", \"Location\": \"string\"}]",
            "should_upgrade_mitosheet": false,
            "analysis_name": "UUID-0af703ed-898d-45d3-9972-598d849c30ee",
            "_view_module": "mitosheet",
            "_dom_classes": [],
            "_model_name": "ExampleModel",
            "saved_analysis_names_json": "[]",
            "_view_module_version": "^0.1.178",
            "has_rendered": false,
            "user_email": ""
          }
        }
      }
    }
  },
  "cells": [
    {
      "cell_type": "markdown",
      "metadata": {
        "id": "view-in-github",
        "colab_type": "text"
      },
      "source": [
        "<a href=\"https://colab.research.google.com/github/iam-pattan/Exploring-ML/blob/main/Mito_xls_UI.ipynb\" target=\"_parent\"><img src=\"https://colab.research.google.com/assets/colab-badge.svg\" alt=\"Open In Colab\"/></a>"
      ]
    },
    {
      "cell_type": "code",
      "metadata": {
        "id": "t1Hx7XbkG32z"
      },
      "source": [
        "!pip install mitosheet"
      ],
      "execution_count": null,
      "outputs": []
    },
    {
      "cell_type": "code",
      "metadata": {
        "colab": {
          "base_uri": "https://localhost:8080/"
        },
        "id": "dNJYBwR8HeGc",
        "outputId": "799d64ea-112a-486b-ec74-6a71050f3e02"
      },
      "source": [
        "!jupyter labextension install @jupyter-widgets/jupyterlab-manager --no-build"
      ],
      "execution_count": 26,
      "outputs": [
        {
          "output_type": "stream",
          "text": [
            "-\b\\\b|\b/\b-\b\\\b|\b/\b-\b\\\b|\b-\b\\\b|\b/\b-\b\\\b|\b/\b-\b\\\b|\b-\b\\\b|\b/\b-\b\\\b|\b/\b-\b\\\b-\b\\\b|\b/\b-\b\\\b|\b/\b-\b"
          ],
          "name": "stdout"
        }
      ]
    },
    {
      "cell_type": "code",
      "metadata": {
        "id": "W3xPAS1rHd32"
      },
      "source": [
        "import mitosheet\n",
        "import pandas as pd"
      ],
      "execution_count": 7,
      "outputs": []
    },
    {
      "cell_type": "code",
      "metadata": {
        "id": "2xk1Zia1Ij3B"
      },
      "source": [
        "df_1 = pd.read_csv('https://support.staffbase.com/hc/en-us/article_attachments/360009197031/username.csv', sep = ';')\n",
        "df_2 = pd.read_csv('https://support.staffbase.com/hc/en-us/article_attachments/360009197011/username-password-recovery-code.csv', sep = ';', engine='c')"
      ],
      "execution_count": 19,
      "outputs": []
    },
    {
      "cell_type": "code",
      "metadata": {
        "colab": {
          "base_uri": "https://localhost:8080/",
          "height": 50,
          "referenced_widgets": [
            "649aa5def0f24c899501415d16effe27"
          ]
        },
        "id": "zPvgWbsbHd-Q",
        "outputId": "1cf5b0ed-022c-484d-dcfb-ddcaf90c7d19"
      },
      "source": [
        "mitosheet.sheet(df_1)"
      ],
      "execution_count": 30,
      "outputs": [
        {
          "output_type": "stream",
          "text": [
            "The google.colab.data_table extension is already loaded. To reload it, use:\n",
            "  %reload_ext google.colab.data_table\n"
          ],
          "name": "stdout"
        },
        {
          "output_type": "display_data",
          "data": {
            "application/vnd.jupyter.widget-view+json": {
              "model_id": "649aa5def0f24c899501415d16effe27",
              "version_minor": 0,
              "version_major": 2
            },
            "text/plain": [
              "MitoWidget(analysis_name='UUID-48566a94-5562-4bc2-a887-7e573fd51546', code_json='{\"imports\": \"from mitosheet i…"
            ]
          },
          "metadata": {
            "tags": []
          }
        }
      ]
    },
    {
      "cell_type": "code",
      "metadata": {
        "colab": {
          "base_uri": "https://localhost:8080/",
          "height": 17,
          "referenced_widgets": [
            "9086c9176ce44f71b4bac90b601547c5"
          ]
        },
        "id": "nnUSDue9HeCE",
        "outputId": "26c93bb7-7d67-46cd-8344-c04866d9ebbf"
      },
      "source": [
        "mitosheet.sheet(df_1, df_2)"
      ],
      "execution_count": 22,
      "outputs": [
        {
          "output_type": "display_data",
          "data": {
            "application/vnd.jupyter.widget-view+json": {
              "model_id": "9086c9176ce44f71b4bac90b601547c5",
              "version_minor": 0,
              "version_major": 2
            },
            "text/plain": [
              "MitoWidget(analysis_name='UUID-0af703ed-898d-45d3-9972-598d849c30ee', code_json='{\"imports\": \"from mitosheet i…"
            ]
          },
          "metadata": {
            "tags": []
          }
        }
      ]
    },
    {
      "cell_type": "code",
      "metadata": {
        "id": "8y3RKSHXHeSj"
      },
      "source": [
        ""
      ],
      "execution_count": null,
      "outputs": []
    },
    {
      "cell_type": "code",
      "metadata": {
        "id": "nN_Q0kRiHeWu"
      },
      "source": [
        ""
      ],
      "execution_count": null,
      "outputs": []
    }
  ]
}